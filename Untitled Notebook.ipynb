{
 "cells": [
  {
   "cell_type": "code",
   "execution_count": 1,
   "metadata": {},
   "outputs": [
    {
     "name": "stdout",
     "output_type": "stream",
     "text": [
      "Initialized empty Git repository in /content/datalab/notebooks/energy-project/.git/\r\n"
     ]
    }
   ],
   "source": [
    "!git init"
   ]
  },
  {
   "cell_type": "code",
   "execution_count": 2,
   "metadata": {},
   "outputs": [],
   "source": [
    "!git add *"
   ]
  },
  {
   "cell_type": "code",
   "execution_count": 3,
   "metadata": {},
   "outputs": [
    {
     "name": "stdout",
     "output_type": "stream",
     "text": [
      "[master (root-commit) 88f29a9] FirstProjectCommit\n",
      " 14 files changed, 286937 insertions(+)\n",
      " create mode 100644 RealMarketPriceData.csv\n",
      " create mode 100644 Untitled Notebook.ipynb\n",
      " create mode 100644 WeatherHistoricalData.zip\n",
      " create mode 100644 WeatherHistoricalData/.DS_Store\n",
      " create mode 100644 WeatherHistoricalData/README_FILE_INFO.txt\n",
      " create mode 100644 WeatherHistoricalData/historical_weather.csv\n",
      " create mode 100644 WeatherHistoricalData/points.csv\n",
      " create mode 100644 __MACOSX/._WeatherHistoricalData\n",
      " create mode 100644 __MACOSX/WeatherHistoricalData/._.DS_Store\n",
      " create mode 100644 __MACOSX/WeatherHistoricalData/._README_FILE_INFO.txt\n",
      " create mode 100644 __MACOSX/WeatherHistoricalData/._historical_weather.csv\n",
      " create mode 100644 __MACOSX/WeatherHistoricalData/._points.csv\n",
      " create mode 100644 data-exploration.ipynb\n",
      " create mode 100644 rHistoricalData.zip\n"
     ]
    }
   ],
   "source": [
    "!git commit -m FirstProjectCommit"
   ]
  },
  {
   "cell_type": "code",
   "execution_count": 15,
   "metadata": {},
   "outputs": [],
   "source": [
    "!git remote add energy-proj https://source.developers.google.com/p/qwiklabs-gcp-0708abec6d37116e/r/energy_project_repo"
   ]
  },
  {
   "cell_type": "code",
   "execution_count": 18,
   "metadata": {},
   "outputs": [
    {
     "name": "stdout",
     "output_type": "stream",
     "text": [
      "On branch placeholder\r\n",
      "Changes not staged for commit:\r\n",
      "\t\u001b[31mmodified:   Untitled Notebook.ipynb\u001b[m\r\n",
      "\t\u001b[31mmodified:   data-exploration.ipynb\u001b[m\r\n",
      "\r\n",
      "Untracked files:\r\n",
      "\t\u001b[31m.ipynb_checkpoints/\u001b[m\r\n",
      "\r\n",
      "no changes added to commit\r\n"
     ]
    }
   ],
   "source": [
    "!git commit -m \"FirstCommit\""
   ]
  },
  {
   "cell_type": "code",
   "execution_count": 23,
   "metadata": {},
   "outputs": [
    {
     "name": "stdout",
     "output_type": "stream",
     "text": [
      "error: pathspec 'master' did not match any file(s) known to git.\r\n",
      "error: pathspec 'energy-proj' did not match any file(s) known to git.\r\n"
     ]
    }
   ],
   "source": [
    "!git checkout master energy-proj"
   ]
  },
  {
   "cell_type": "code",
   "execution_count": 20,
   "metadata": {},
   "outputs": [
    {
     "name": "stdout",
     "output_type": "stream",
     "text": [
      "warning: push.default is unset; its implicit value has changed in\r\n",
      "Git 2.0 from 'matching' to 'simple'. To squelch this message\r\n",
      "and maintain the traditional behavior, use:\r\n",
      "\r\n",
      "  git config --global push.default matching\r\n",
      "\r\n",
      "To squelch this message and adopt the new behavior now, use:\r\n",
      "\r\n",
      "  git config --global push.default simple\r\n",
      "\r\n",
      "When push.default is set to 'matching', git will push local branches\r\n",
      "to the remote branches that already exist with the same name.\r\n",
      "\r\n",
      "Since Git 2.0, Git defaults to the more conservative 'simple'\r\n",
      "behavior, which only pushes the current branch to the corresponding\r\n",
      "remote branch that 'git pull' uses to update the current branch.\r\n",
      "\r\n",
      "See 'git help config' and search for 'push.default' for further information.\r\n",
      "(the 'simple' mode was introduced in Git 1.7.11. Use the similar mode\r\n",
      "'current' instead of 'simple' if you sometimes use older versions of Git)\r\n",
      "\r\n",
      "fatal: The current branch placeholder has no upstream branch.\r\n",
      "To push the current branch and set the remote as upstream, use\r\n",
      "\r\n",
      "    git push --set-upstream energy-proj placeholder\r\n",
      "\r\n"
     ]
    }
   ],
   "source": [
    "!git push energy-proj"
   ]
  },
  {
   "cell_type": "code",
   "execution_count": null,
   "metadata": {},
   "outputs": [],
   "source": [
    "!git clone https://github.com/SteMuen/energy-project.git"
   ]
  },
  {
   "cell_type": "code",
   "execution_count": 8,
   "metadata": {},
   "outputs": [
    {
     "name": "stdout",
     "output_type": "stream",
     "text": [
      "Deleted branch master (was 88f29a9).\r\n"
     ]
    }
   ],
   "source": [
    "!git branch -D master"
   ]
  },
  {
   "cell_type": "code",
   "execution_count": 9,
   "metadata": {},
   "outputs": [
    {
     "name": "stdout",
     "output_type": "stream",
     "text": [
      "fatal: 'origin' does not appear to be a git repository\r\n",
      "fatal: Could not read from remote repository.\r\n",
      "\r\n",
      "Please make sure you have the correct access rights\r\n",
      "and the repository exists.\r\n"
     ]
    }
   ],
   "source": [
    "!git push origin :master"
   ]
  },
  {
   "cell_type": "code",
   "execution_count": 11,
   "metadata": {},
   "outputs": [
    {
     "name": "stdout",
     "output_type": "stream",
     "text": [
      "M\tUntitled Notebook.ipynb\r\n",
      "M\tdata-exploration.ipynb\r\n",
      "Already on 'placeholder'\r\n"
     ]
    }
   ],
   "source": [
    "!git checkout placeholder"
   ]
  },
  {
   "cell_type": "code",
   "execution_count": 12,
   "metadata": {},
   "outputs": [
    {
     "name": "stdout",
     "output_type": "stream",
     "text": [
      "fatal: 'origin' does not appear to be a git repository\r\n",
      "fatal: Could not read from remote repository.\r\n",
      "\r\n",
      "Please make sure you have the correct access rights\r\n",
      "and the repository exists.\r\n"
     ]
    }
   ],
   "source": [
    "!git push origin placeholder"
   ]
  },
  {
   "cell_type": "code",
   "execution_count": 13,
   "metadata": {},
   "outputs": [
    {
     "name": "stdout",
     "output_type": "stream",
     "text": [
      "On branch placeholder\r\n",
      "Changes not staged for commit:\r\n",
      "  (use \"git add <file>...\" to update what will be committed)\r\n",
      "  (use \"git checkout -- <file>...\" to discard changes in working directory)\r\n",
      "\r\n",
      "\t\u001b[31mmodified:   Untitled Notebook.ipynb\u001b[m\r\n",
      "\t\u001b[31mmodified:   data-exploration.ipynb\u001b[m\r\n",
      "\r\n",
      "Untracked files:\r\n",
      "  (use \"git add <file>...\" to include in what will be committed)\r\n",
      "\r\n",
      "\t\u001b[31m.ipynb_checkpoints/\u001b[m\r\n",
      "\r\n",
      "no changes added to commit (use \"git add\" and/or \"git commit -a\")\r\n"
     ]
    }
   ],
   "source": [
    "!git status"
   ]
  },
  {
   "cell_type": "code",
   "execution_count": null,
   "metadata": {},
   "outputs": [],
   "source": []
  }
 ],
 "metadata": {
  "kernelspec": {
   "display_name": "Python 2",
   "language": "python",
   "name": "python2"
  },
  "language_info": {
   "codemirror_mode": {
    "name": "ipython",
    "version": 2
   },
   "file_extension": ".py",
   "mimetype": "text/x-python",
   "name": "python",
   "nbconvert_exporter": "python",
   "pygments_lexer": "ipython2",
   "version": "2.7.15"
  }
 },
 "nbformat": 4,
 "nbformat_minor": 2
}
